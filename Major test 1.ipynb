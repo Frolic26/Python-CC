{
 "cells": [
  {
   "cell_type": "markdown",
   "id": "cf274dae",
   "metadata": {},
   "source": [
    "# Sum_of_odd_and_even\n"
   ]
  },
  {
   "cell_type": "code",
   "execution_count": 3,
   "id": "c0aa89c0",
   "metadata": {},
   "outputs": [
    {
     "name": "stdout",
     "output_type": "stream",
     "text": [
      "11234\n",
      "6 5\n"
     ]
    }
   ],
   "source": [
    "N=input()\n",
    "l=len(N)\n",
    "N=int(N)\n",
    "even=0\n",
    "odd=0\n",
    "for i in range(1,l+1):\n",
    "   if((N%10)%2==0):\n",
    "           even+=N%10\n",
    "   else:\n",
    "           odd+=N%10\n",
    "   N=N//(10)\n",
    "print(even,odd )"
   ]
  },
  {
   "cell_type": "markdown",
   "id": "71145046",
   "metadata": {},
   "source": [
    "# smallest positive number\n",
    "\n"
   ]
  },
  {
   "cell_type": "code",
   "execution_count": 6,
   "id": "02ef0154",
   "metadata": {},
   "outputs": [
    {
     "name": "stdout",
     "output_type": "stream",
     "text": [
      "5\n",
      "1 2 3 4 5 \n",
      "6\n"
     ]
    }
   ],
   "source": [
    "n = int(input())\n",
    "numbers = [int(x) for x in input().split()]\n",
    "numbers.sort()\n",
    "result = 1\n",
    "\n",
    "for n in numbers:\n",
    "    if n != result:\n",
    "        break\n",
    "\n",
    "    result += 1\n",
    "\n",
    "print(result)"
   ]
  },
  {
   "cell_type": "markdown",
   "id": "d046d064",
   "metadata": {},
   "source": [
    "## Hangman\n"
   ]
  },
  {
   "cell_type": "code",
   "execution_count": 2,
   "id": "7b40a939",
   "metadata": {},
   "outputs": [
    {
     "name": "stdout",
     "output_type": "stream",
     "text": [
      "What is your name? Shilp\n",
      "Welcome to Hangman Shilp\n",
      "Guess a letter\n",
      "guess a letter:c\n",
      "c\n",
      "guess a letter:o\n",
      "c\n",
      "o\n",
      "guess a letter:m\n",
      "Oopsies wrong guess\n",
      "You got 7 more guesses\n",
      "c\n",
      "o\n",
      "guess a letter:u\n",
      "c\n",
      "o\n",
      "u\n",
      "guess a letter:r\n",
      "c\n",
      "o\n",
      "u\n",
      "r\n",
      "guess a letter:s\n",
      "c\n",
      "o\n",
      "u\n",
      "r\n",
      "s\n",
      "guess a letter:e\n",
      "c\n",
      "o\n",
      "u\n",
      "r\n",
      "s\n",
      "e\n",
      "You Win\n",
      "The word is:  course\n"
     ]
    }
   ],
   "source": [
    "import random\n",
    "name = input(\"What is your name? \")\n",
    "print(\"Welcome to Hangman\", name)\n",
    "words = ['java', 'computer', 'science', 'course',\n",
    "         'python', 'data', 'machine', 'situation',\n",
    "         'intelligence', 'flowers','human', \n",
    "         'gadgets','system', 'embedded']\n",
    "\n",
    "word = random.choice(words) \n",
    "print(\"Guess a letter\")\n",
    "guesses = ''\n",
    "turns = 8\n",
    "while turns > 0:\n",
    "    lose = 0\n",
    "    for char in word:\n",
    "        if char in guesses:\n",
    "            print(char)\n",
    "        else:\n",
    "            lose += 1\n",
    "    if lose == 0:\n",
    "        print(\"You Win\")\n",
    "        print(\"The word is: \", word)\n",
    "        break\n",
    "    guess = input(\"guess a letter:\")\n",
    "    guesses += guess\n",
    "    if guess not in word:\n",
    "        turns -= 1\n",
    "        print(\"Oopsies wrong guess\")\n",
    "        print(\"You got\", + turns, 'more guesses')\n",
    "        if turns == 0:\n",
    "            print(\"You Loose\")"
   ]
  },
  {
   "cell_type": "code",
   "execution_count": null,
   "id": "08ff4cbc",
   "metadata": {},
   "outputs": [],
   "source": []
  }
 ],
 "metadata": {
  "kernelspec": {
   "display_name": "Python 3 (ipykernel)",
   "language": "python",
   "name": "python3"
  },
  "language_info": {
   "codemirror_mode": {
    "name": "ipython",
    "version": 3
   },
   "file_extension": ".py",
   "mimetype": "text/x-python",
   "name": "python",
   "nbconvert_exporter": "python",
   "pygments_lexer": "ipython3",
   "version": "3.9.5"
  }
 },
 "nbformat": 4,
 "nbformat_minor": 5
}
